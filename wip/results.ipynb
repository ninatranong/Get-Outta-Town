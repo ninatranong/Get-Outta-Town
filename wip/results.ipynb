{
 "cells": [
  {
   "cell_type": "markdown",
   "id": "4d5cfb07-b8d0-4534-baa3-8167d2cc716f",
   "metadata": {},
   "source": [
    "Get Outta Town\n",
    "A Jupyter Notebook attempting to use Wikipedia to compile information regarding countries so people can make an informed decision on where to move."
   ]
  },
  {
   "cell_type": "code",
   "execution_count": 1,
   "id": "dec7f80d-1672-490b-9044-46d943b23f87",
   "metadata": {},
   "outputs": [],
   "source": [
    "# First, let's import the files we'll be using.\n",
    "import wikipedia_search\n",
    "import output"
   ]
  },
  {
   "cell_type": "code",
   "execution_count": 2,
   "id": "e0a84fee-c726-4634-954f-ce620dcd46d9",
   "metadata": {},
   "outputs": [],
   "source": [
    "# Now, let's decide what countries we want to search\n",
    "countries = ['Japan', 'Sweden']\n",
    "\n",
    "# What are things we care about seeing?\n",
    "categories = ['gay rights', 'official language', 'cannabis']"
   ]
  },
  {
   "cell_type": "code",
   "execution_count": 3,
   "id": "a091ae87-966e-49c0-b540-0e2d9627453a",
   "metadata": {},
   "outputs": [
    {
     "name": "stdout",
     "output_type": "stream",
     "text": [
      "{'gay rights': 'Japan has made progress in recognizing same-sex relationships in recent years, with some cities and municipalities offering partnership registrations. However, there is still no nationwide legal recognition of same-sex marriage, and discrimination against LGBTQ+ individuals persists in various aspects of society.', 'language': 'The Japanese language is a member of the Japonic language family and is spoken by over 125 million people. It has a unique writing system that combines three scripts: hiragana, katakana, and kanji. The Japanese language is a rich and complex language with a long history.', 'cannabis': 'Japan has strict laws prohibiting the cultivation, possession, and consumption of cannabis. Despite recent public debates about potential medical benefits, the government maintains a zero-tolerance policy, with severe penalties for any violations.'}\n",
      "{'gay rights': \"Sweden is widely recognized for its progressive stance on gay rights. It was among the first countries in the world to legalize same-sex marriage and adoption by same-sex couples. Sweden's government and society have consistently supported and promoted the rights of LGBTQ+ individuals, resulting in a high level of social acceptance and legal protection for this community compared to many other nations.\", 'language': 'Swedish is the official language of Sweden, spoken by the majority of the population. It belongs to the North Germanic branch of the Indo-European language family and is closely related to Norwegian and Danish, forming a dialect continuum known as the Scandinavian languages.', 'cannabis': 'Sweden has a strict stance on cannabis, classifying it as an illegal narcotic. Possession, cultivation, and distribution are punishable by fines or imprisonment. Despite this, there is a growing movement in Sweden advocating for the legalization of cannabis for both medical and recreational purposes.'}\n"
     ]
    }
   ],
   "source": [
    "# Let's see what we get\n",
    "for country in countries:\n",
    "    api_results = wikipedia_search.search(country, categories)\n",
    "    print(api_results)"
   ]
  },
  {
   "cell_type": "code",
   "execution_count": null,
   "id": "3069489f-9bec-4b38-b127-b1bc3590e6d2",
   "metadata": {},
   "outputs": [],
   "source": []
  }
 ],
 "metadata": {
  "kernelspec": {
   "display_name": "Python 3 (ipykernel)",
   "language": "python",
   "name": "python3"
  },
  "language_info": {
   "codemirror_mode": {
    "name": "ipython",
    "version": 3
   },
   "file_extension": ".py",
   "mimetype": "text/x-python",
   "name": "python",
   "nbconvert_exporter": "python",
   "pygments_lexer": "ipython3",
   "version": "3.10.4"
  }
 },
 "nbformat": 4,
 "nbformat_minor": 5
}
