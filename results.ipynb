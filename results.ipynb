{
 "cells": [
  {
   "cell_type": "markdown",
   "id": "4d5cfb07-b8d0-4534-baa3-8167d2cc716f",
   "metadata": {},
   "source": [
    "Get Outta Town\n",
    "A Jupyter Notebook to compile information regarding countries so people can make an informed decision on where to move."
   ]
  },
  {
   "cell_type": "code",
   "execution_count": null,
   "id": "dec7f80d-1672-490b-9044-46d943b23f87",
   "metadata": {},
   "outputs": [],
   "source": [
    "# First, let's import the files we'll be using.\n",
    "import api\n",
    "import json\n",
    "from types import SimpleNamespace"
   ]
  },
  {
   "cell_type": "code",
   "execution_count": null,
   "id": "e0a84fee-c726-4634-954f-ce620dcd46d9",
   "metadata": {},
   "outputs": [],
   "source": [
    "# Now, let's decide what countries we want to search\n",
    "countries = ['Japan', 'Sweden']\n",
    "\n",
    "# What are things we care about seeing?\n",
    "categories = ['timezone', 'gay rights', 'language', 'cannabis']"
   ]
  },
  {
   "cell_type": "code",
   "execution_count": null,
   "id": "a091ae87-966e-49c0-b540-0e2d9627453a",
   "metadata": {},
   "outputs": [],
   "source": [
    "# Let's see what we get\n",
    "for country in countries:\n",
    "    api_results = api.search(country, categories)\n",
    "    print(api_results)"
   ]
  },
  {
   "cell_type": "code",
   "execution_count": null,
   "id": "3069489f-9bec-4b38-b127-b1bc3590e6d2",
   "metadata": {},
   "outputs": [],
   "source": []
  }
 ],
 "metadata": {
  "kernelspec": {
   "display_name": "Python 3 (ipykernel)",
   "language": "python",
   "name": "python3"
  },
  "language_info": {
   "codemirror_mode": {
    "name": "ipython",
    "version": 3
   },
   "file_extension": ".py",
   "mimetype": "text/x-python",
   "name": "python",
   "nbconvert_exporter": "python",
   "pygments_lexer": "ipython3",
   "version": "3.10.4"
  }
 },
 "nbformat": 4,
 "nbformat_minor": 5
}
