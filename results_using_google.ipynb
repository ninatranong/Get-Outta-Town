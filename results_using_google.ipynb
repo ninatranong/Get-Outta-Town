{
 "cells": [
  {
   "cell_type": "markdown",
   "id": "999b5e48-3aab-46a9-ac11-664efc59dbf8",
   "metadata": {},
   "source": [
    "Get Outta Town\n",
    "A Jupyter Notebook using Google's API to compile information regarding countries so people can make an informed decision on where to move."
   ]
  },
  {
   "cell_type": "code",
   "execution_count": 1,
   "id": "f2978e40-692f-4e53-8ed5-757a39852dba",
   "metadata": {},
   "outputs": [],
   "source": [
    "# First, let's import the files we'll be using.\n",
    "import google_api\n",
    "import output"
   ]
  },
  {
   "cell_type": "code",
   "execution_count": 2,
   "id": "5c1ed726-0da2-42ab-bdc8-e4c466247033",
   "metadata": {},
   "outputs": [],
   "source": [
    "# Now, let's decide what countries we want to search\n",
    "countries = ['Argentina', 'Chile', 'Uruguay', 'Costa Rica', 'Malta', 'Portugal', 'Switzerland', 'Thailand', 'Netherlands', 'Germany', 'Greece', 'Ireland']\n",
    "\n",
    "# What are things we care about seeing?\n",
    "categories = ['cannabis', 'Gay and trans rights', 'Universal healthcare', 'trans healthcare', 'Public transportation and safe roads', 'water and plumbing', 'education', 'racism', 'misogyny', 'culture', 'Crime', 'immigration', 'pet immigration breed restrictions']"
   ]
  },
  {
   "cell_type": "code",
   "execution_count": null,
   "id": "fa92c0b9-e434-40cd-b793-95f6a0d8180a",
   "metadata": {},
   "outputs": [],
   "source": [
    "# Let's see what we get\n",
    "results = google_api.interpret(countries, categories)"
   ]
  },
  {
   "cell_type": "code",
   "execution_count": 4,
   "id": "5aef9ba5-3551-4137-8812-674a1ab95c6f",
   "metadata": {},
   "outputs": [
    {
     "name": "stdout",
     "output_type": "stream",
     "text": [
      "File created.\n"
     ]
    }
   ],
   "source": [
    "output.create_csv(results)"
   ]
  },
  {
   "cell_type": "code",
   "execution_count": null,
   "id": "93ab9c41-d866-4c06-b2eb-4886d1295d22",
   "metadata": {},
   "outputs": [],
   "source": []
  }
 ],
 "metadata": {
  "kernelspec": {
   "display_name": "Python 3 (ipykernel)",
   "language": "python",
   "name": "python3"
  },
  "language_info": {
   "codemirror_mode": {
    "name": "ipython",
    "version": 3
   },
   "file_extension": ".py",
   "mimetype": "text/x-python",
   "name": "python",
   "nbconvert_exporter": "python",
   "pygments_lexer": "ipython3",
   "version": "3.10.4"
  }
 },
 "nbformat": 4,
 "nbformat_minor": 5
}
